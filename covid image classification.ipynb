{
 "cells": [
  {
   "cell_type": "markdown",
   "metadata": {},
   "source": [
    "# Context\n",
    "Helping Deep Learning and AI Enthusiasts to contribute to improving COVID-19 detection using just Chest X-rays.\n",
    "\n",
    "# Content\n",
    "It is a simple directory structure branched into test and train and further branched into the respective 3 classes which contains the images.\n",
    "\n",
    "# Acknowledgements\n",
    "Thanks to The University of Montreal for releasing the images.\n",
    "\n",
    "# Inspiration\n",
    "Help the medical and researcher community by sharing my work and encourage them to contribute extensively."
   ]
  },
  {
   "cell_type": "markdown",
   "metadata": {},
   "source": [
    "# Strategy\n",
    "Image analysis is a \"difficult\" problem, where traditional machine learning is likely to struggle. \n",
    "Deep learning, has the ability to capture relationships in images by doing both feature extraction and feature generation.\n",
    "Using tensorflow and a neural network is probably the way to go."
   ]
  },
  {
   "cell_type": "markdown",
   "metadata": {},
   "source": [
    "# Data\n",
    "There are folders split into train and test data. This removes one step of train test splitting.\n",
    "All the X-ray scans are in grayscale. \n",
    "There are three types of cases in the X-rays:\n",
    "1. Covid with 111 examples\n",
    "2. Normal  70\n",
    "3. Viral Pneumonia with 70\n",
    "\n",
    "These are each a different class that our learning model can output, indicating a multi-class classification with three labels rather than binary classification (covid/not covid)."
   ]
  },
  {
   "cell_type": "markdown",
   "metadata": {},
   "source": [
    "# Neural Network imports"
   ]
  },
  {
   "cell_type": "code",
   "execution_count": 26,
   "metadata": {
    "execution": {
     "iopub.execute_input": "2021-06-11T06:31:25.946869Z",
     "iopub.status.busy": "2021-06-11T06:31:25.946508Z",
     "iopub.status.idle": "2021-06-11T06:31:25.951934Z",
     "shell.execute_reply": "2021-06-11T06:31:25.950946Z",
     "shell.execute_reply.started": "2021-06-11T06:31:25.946837Z"
    }
   },
   "outputs": [],
   "source": [
    "import tensorflow as tf\n",
    "from tensorflow import keras\n",
    "from tensorflow.keras.models import Sequential\n",
    "from tensorflow.keras.preprocessing.image import ImageDataGenerator\n",
    "from tensorflow.keras.callbacks import EarlyStopping\n",
    "from tensorflow.keras import layers\n",
    "import matplotlib.pyplot as plt\n",
    "import numpy as np"
   ]
  },
  {
   "cell_type": "markdown",
   "metadata": {},
   "source": [
    "# Data Flow preprocessing\n",
    "Augmentation, which simply, can be done by shifting or rotating images is applied on the training data.<br>\n",
    "Since the process for training and validation is different, two generators are made. <br>\n",
    "A generator loads a certain number of images into memory to later be yielded to a neural network. It prevents us from running out of memory which can easily happen with images.<br>\n",
    "Also all data is scaled down as neural networks do not work well with large numbers. "
   ]
  },
  {
   "cell_type": "code",
   "execution_count": 2,
   "metadata": {
    "execution": {
     "iopub.execute_input": "2021-06-11T06:17:56.873674Z",
     "iopub.status.busy": "2021-06-11T06:17:56.873288Z",
     "iopub.status.idle": "2021-06-11T06:17:57.100711Z",
     "shell.execute_reply": "2021-06-11T06:17:57.100028Z",
     "shell.execute_reply.started": "2021-06-11T06:17:56.873631Z"
    }
   },
   "outputs": [
    {
     "name": "stdout",
     "output_type": "stream",
     "text": [
      "Found 251 images belonging to 3 classes.\n",
      "Found 66 images belonging to 3 classes.\n"
     ]
    }
   ],
   "source": [
    "BATCH_SIZE = 16\n",
    "\n",
    "training_data_generator = ImageDataGenerator(rescale=1./255,\n",
    "        zoom_range=0.2,\n",
    "        rotation_range=15,\n",
    "        width_shift_range=0.05,\n",
    "        height_shift_range=0.05)\n",
    "\n",
    "training_iterator = training_data_generator.flow_from_directory('../input/covid19-image-dataset/Covid19-dataset/train',class_mode='categorical',color_mode='grayscale',batch_size=BATCH_SIZE)\n",
    "validation_data_generator = ImageDataGenerator(rescale=1./255)\n",
    "validation_iterator = validation_data_generator.flow_from_directory('../input/covid19-image-dataset/Covid19-dataset/test',class_mode='categorical',color_mode='grayscale',batch_size=BATCH_SIZE)"
   ]
  },
  {
   "cell_type": "markdown",
   "metadata": {},
   "source": [
    "# Model Construction\n",
    "A quite small network consisting of convolutions. The proximity of information in pixels and size of images makes dense layers almost impossible to use. <br>\n",
    "A convolution will find similar object at different locations in an image. Say for instance properties of covid is likely to be seen at some particular location in an image. Not distributed across all of the image. <br>\n",
    "Pooling Layers pool local information to reduce the dimensionality of intermediate convolutional outputs. That is we sort of summarize the information in each area of the image.<br>\n",
    "Flatten reduces the dimensions to 1 so that a Dense layer can be used the prediction of any of the labels. Softmax is used wich gives the probability of each label."
   ]
  },
  {
   "cell_type": "code",
   "execution_count": 3,
   "metadata": {
    "execution": {
     "iopub.execute_input": "2021-06-11T06:17:57.102110Z",
     "iopub.status.busy": "2021-06-11T06:17:57.101859Z",
     "iopub.status.idle": "2021-06-11T06:17:57.216687Z",
     "shell.execute_reply": "2021-06-11T06:17:57.215751Z",
     "shell.execute_reply.started": "2021-06-11T06:17:57.102084Z"
    }
   },
   "outputs": [
    {
     "name": "stdout",
     "output_type": "stream",
     "text": [
      "Model: \"sequential\"\n",
      "_________________________________________________________________\n",
      "Layer (type)                 Output Shape              Param #   \n",
      "=================================================================\n",
      "conv2d (Conv2D)              (None, 84, 84, 2)         52        \n",
      "_________________________________________________________________\n",
      "max_pooling2d (MaxPooling2D) (None, 16, 16, 2)         0         \n",
      "_________________________________________________________________\n",
      "conv2d_1 (Conv2D)            (None, 14, 14, 4)         76        \n",
      "_________________________________________________________________\n",
      "max_pooling2d_1 (MaxPooling2 (None, 7, 7, 4)           0         \n",
      "_________________________________________________________________\n",
      "flatten (Flatten)            (None, 196)               0         \n",
      "_________________________________________________________________\n",
      "dense (Dense)                (None, 3)                 591       \n",
      "=================================================================\n",
      "Total params: 719\n",
      "Trainable params: 719\n",
      "Non-trainable params: 0\n",
      "_________________________________________________________________\n"
     ]
    }
   ],
   "source": [
    "model = tf.keras.Sequential()\n",
    "model.add(tf.keras.Input(shape=(256, 256, 1)))\n",
    "model.add(tf.keras.layers.Conv2D(2, 5, strides=3, activation=\"relu\")) \n",
    "model.add(tf.keras.layers.MaxPooling2D(\n",
    "    pool_size=(5, 5), strides=(5,5)))\n",
    "model.add(tf.keras.layers.Conv2D(4, 3, strides=1, activation=\"relu\")) \n",
    "model.add(tf.keras.layers.MaxPooling2D(\n",
    "    pool_size=(2,2), strides=(2,2)))\n",
    "model.add(tf.keras.layers.Flatten())\n",
    "\n",
    "model.add(tf.keras.layers.Dense(3,activation=\"softmax\"))\n",
    "\n",
    "model.summary()"
   ]
  },
  {
   "cell_type": "markdown",
   "metadata": {},
   "source": [
    "# Accuracy\n",
    "Accuracy calculates the percentage of predicted values (yPred) that match with actual values (yTrue). So how good the model is overall.\n",
    "We can also \n",
    "# Categorical Accuracy\n",
    "Categorical Accuracy calculates the percentage of predicted values (yPred) that match with actual values (yTrue) for one-hot labels. So it also takes into acount the different classes."
   ]
  },
  {
   "cell_type": "code",
   "execution_count": 4,
   "metadata": {
    "execution": {
     "iopub.execute_input": "2021-06-11T06:17:57.218363Z",
     "iopub.status.busy": "2021-06-11T06:17:57.218010Z",
     "iopub.status.idle": "2021-06-11T06:17:57.249102Z",
     "shell.execute_reply": "2021-06-11T06:17:57.248328Z",
     "shell.execute_reply.started": "2021-06-11T06:17:57.218328Z"
    }
   },
   "outputs": [
    {
     "name": "stdout",
     "output_type": "stream",
     "text": [
      "\n",
      "Compiling model...\n"
     ]
    }
   ],
   "source": [
    "print(\"\\nCompiling model...\")\n",
    "\n",
    "#Compile the model with an Adam optimizer, Categorical Cross Entropy Loss, and Accuracy and AUC metrics:\n",
    "\n",
    "opt = tf.keras.optimizers.Adam(learning_rate=0.001)\n",
    "loss = tf.keras.losses.CategoricalCrossentropy()\n",
    "\n",
    "model.compile(\n",
    "    optimizer=opt,\n",
    "    loss=loss,\n",
    "    metrics=[tf.keras.metrics.CategoricalAccuracy(),tf.keras.metrics.AUC()]\n",
    ")"
   ]
  },
  {
   "cell_type": "markdown",
   "metadata": {},
   "source": [
    "# Fitting the Model\n",
    "Pretty straight forward. Here I use a large number of epochs + early stopping if the model fails to improve over 3 runs. \n",
    "Use model.fit(...) to train and validate our model for 50 epochs:"
   ]
  },
  {
   "cell_type": "code",
   "execution_count": 7,
   "metadata": {
    "execution": {
     "iopub.execute_input": "2021-06-11T06:19:46.533896Z",
     "iopub.status.busy": "2021-06-11T06:19:46.533495Z",
     "iopub.status.idle": "2021-06-11T06:20:57.750015Z",
     "shell.execute_reply": "2021-06-11T06:20:57.749065Z",
     "shell.execute_reply.started": "2021-06-11T06:19:46.533861Z"
    }
   },
   "outputs": [
    {
     "name": "stdout",
     "output_type": "stream",
     "text": [
      "\n",
      "Training model...\n",
      "Epoch 1/5\n",
      "15/15 [==============================] - 14s 917ms/step - loss: 0.9310 - categorical_accuracy: 0.5697 - auc: 0.7901 - val_loss: 0.8006 - val_categorical_accuracy: 0.7121 - val_auc: 0.9179\n",
      "Epoch 2/5\n",
      "15/15 [==============================] - 14s 910ms/step - loss: 0.8193 - categorical_accuracy: 0.7291 - auc: 0.8738 - val_loss: 0.6602 - val_categorical_accuracy: 0.8939 - val_auc: 0.9498\n",
      "Epoch 3/5\n",
      "15/15 [==============================] - 14s 882ms/step - loss: 0.6763 - categorical_accuracy: 0.7809 - auc: 0.9143 - val_loss: 0.5230 - val_categorical_accuracy: 0.8636 - val_auc: 0.9620\n",
      "Epoch 4/5\n",
      "15/15 [==============================] - 14s 890ms/step - loss: 0.6068 - categorical_accuracy: 0.7849 - auc: 0.9114 - val_loss: 0.4498 - val_categorical_accuracy: 0.8939 - val_auc: 0.9639\n",
      "Epoch 5/5\n",
      "15/15 [==============================] - 14s 890ms/step - loss: 0.4938 - categorical_accuracy: 0.8127 - auc: 0.9441 - val_loss: 0.4229 - val_categorical_accuracy: 0.8333 - val_auc: 0.9614\n",
      "Epoch 00005: early stopping\n"
     ]
    }
   ],
   "source": [
    "print(\"\\nTraining model...\")\n",
    "EPOCHS = 5\n",
    "\n",
    "steps_per_epoch = training_iterator.samples/BATCH_SIZE\n",
    "validation_steps = validation_iterator.samples/BATCH_SIZE\n",
    "es = EarlyStopping(monitor='val_categorical_accuracy', mode='max', verbose=1, patience = 3)\n",
    "\n",
    "history = model.fit(\n",
    "       training_iterator,\n",
    "        steps_per_epoch=steps_per_epoch,\n",
    "        epochs=EPOCHS,\n",
    "        validation_data=validation_iterator,\n",
    "        validation_steps=validation_steps,\n",
    "        callbacks = [es],\n",
    "        verbose=1) "
   ]
  },
  {
   "cell_type": "code",
   "execution_count": 8,
   "metadata": {
    "execution": {
     "iopub.execute_input": "2021-06-11T06:20:57.751653Z",
     "iopub.status.busy": "2021-06-11T06:20:57.751388Z",
     "iopub.status.idle": "2021-06-11T06:20:57.756976Z",
     "shell.execute_reply": "2021-06-11T06:20:57.755647Z",
     "shell.execute_reply.started": "2021-06-11T06:20:57.751625Z"
    }
   },
   "outputs": [
    {
     "name": "stdout",
     "output_type": "stream",
     "text": [
      "dict_keys(['loss', 'categorical_accuracy', 'auc', 'val_loss', 'val_categorical_accuracy', 'val_auc'])\n"
     ]
    }
   ],
   "source": [
    "print(history.history.keys())"
   ]
  },
  {
   "cell_type": "code",
   "execution_count": 28,
   "metadata": {
    "execution": {
     "iopub.execute_input": "2021-06-11T06:31:43.106468Z",
     "iopub.status.busy": "2021-06-11T06:31:43.106162Z",
     "iopub.status.idle": "2021-06-11T06:31:43.225246Z",
     "shell.execute_reply": "2021-06-11T06:31:43.224203Z",
     "shell.execute_reply.started": "2021-06-11T06:31:43.106439Z"
    }
   },
   "outputs": [
    {
     "data": {
      "image/png": "[encoded data removed]",
      "text/plain": [
       "<Figure size 432x288 with 1 Axes>"
      ]
     },
     "metadata": {
      "needs_background": "light"
     },
     "output_type": "display_data"
    }
   ],
   "source": [
    "import matplotlib.ticker as mtick\n",
    "\n",
    "fig, ax = plt.subplots(1,1) \n",
    "\n",
    "y = np.array(history.history['val_categorical_accuracy']) * 100\n",
    "x = [i for i in range(EPOCHS)]\n",
    "plt.plot(x, y, 'go--', linewidth=2, markersize=12)\n",
    "plt.plot(x, y, color='green', marker='o', linestyle='dashed',  linewidth=2, markersize=12)\n",
    "plt.ylabel('Validation Accuracy', fontsize=14)\n",
    "ax.yaxis.set_major_formatter(mtick.PercentFormatter())\n",
    "plt.xlabel('Epoch', fontsize=14)\n",
    "plt.xticks(ticks=x, labels=None) # , **kwargs\n",
    "plt.show()"
   ]
  },
  {
   "cell_type": "code",
   "execution_count": null,
   "metadata": {
    "execution": {
     "iopub.status.busy": "2021-06-11T06:18:22.057035Z",
     "iopub.status.idle": "2021-06-11T06:18:22.057390Z"
    }
   },
   "outputs": [],
   "source": [
    "weights = model.get_weights()\n",
    "#weights"
   ]
  },
  {
   "cell_type": "code",
   "execution_count": null,
   "metadata": {},
   "outputs": [],
   "source": []
  }
 ],
 "metadata": {
  "kernelspec": {
   "display_name": "Python 3",
   "language": "python",
   "name": "python3"
  },
  "language_info": {
   "codemirror_mode": {
    "name": "ipython",
    "version": 3
   },
   "file_extension": ".py",
   "mimetype": "text/x-python",
   "name": "python",
   "nbconvert_exporter": "python",
   "pygments_lexer": "ipython3",
   "version": "3.8.5"
  }
 },
 "nbformat": 4,
 "nbformat_minor": 4
}
